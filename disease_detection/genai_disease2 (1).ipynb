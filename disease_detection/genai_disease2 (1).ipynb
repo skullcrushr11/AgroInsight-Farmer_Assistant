{
  "cells": [
    {
      "cell_type": "code",
      "execution_count": 1,
      "metadata": {
        "colab": {
          "base_uri": "https://localhost:8080/"
        },
        "id": "pct4awtxzVoG",
        "outputId": "d76fdd99-9af8-4532-91cc-424375dae6e9"
      },
      "outputs": [
        {
          "name": "stdout",
          "output_type": "stream",
          "text": [
            "Defaulting to user installation because normal site-packages is not writeable\n",
            "Requirement already satisfied: torch in c:\\users\\kumar\\appdata\\roaming\\python\\python310\\site-packages (2.6.0+cu126)\n",
            "Requirement already satisfied: torchvision in c:\\users\\kumar\\appdata\\roaming\\python\\python310\\site-packages (0.21.0+cu126)\n",
            "Collecting torchsummary\n",
            "  Downloading torchsummary-1.5.1-py3-none-any.whl.metadata (296 bytes)\n",
            "Requirement already satisfied: filelock in c:\\users\\kumar\\appdata\\roaming\\python\\python310\\site-packages (from torch) (3.16.1)\n",
            "Requirement already satisfied: typing-extensions>=4.10.0 in c:\\users\\kumar\\appdata\\roaming\\python\\python310\\site-packages (from torch) (4.12.2)\n",
            "Requirement already satisfied: networkx in c:\\users\\kumar\\appdata\\roaming\\python\\python310\\site-packages (from torch) (3.4.2)\n",
            "Requirement already satisfied: jinja2 in c:\\users\\kumar\\appdata\\roaming\\python\\python310\\site-packages (from torch) (3.1.4)\n",
            "Requirement already satisfied: fsspec in c:\\users\\kumar\\appdata\\roaming\\python\\python310\\site-packages (from torch) (2024.10.0)\n",
            "Requirement already satisfied: sympy==1.13.1 in c:\\users\\kumar\\appdata\\roaming\\python\\python310\\site-packages (from torch) (1.13.1)\n",
            "Requirement already satisfied: mpmath<1.4,>=1.1.0 in c:\\users\\kumar\\appdata\\roaming\\python\\python310\\site-packages (from sympy==1.13.1->torch) (1.3.0)\n",
            "Requirement already satisfied: numpy in c:\\users\\kumar\\appdata\\roaming\\python\\python310\\site-packages (from torchvision) (1.26.4)\n",
            "Requirement already satisfied: pillow!=8.3.*,>=5.3.0 in c:\\users\\kumar\\appdata\\roaming\\python\\python310\\site-packages (from torchvision) (11.0.0)\n",
            "Requirement already satisfied: MarkupSafe>=2.0 in c:\\users\\kumar\\appdata\\roaming\\python\\python310\\site-packages (from jinja2->torch) (3.0.2)\n",
            "Downloading torchsummary-1.5.1-py3-none-any.whl (2.8 kB)\n",
            "Installing collected packages: torchsummary\n",
            "Successfully installed torchsummary-1.5.1\n"
          ]
        }
      ],
      "source": [
        "!pip install torch torchvision torchsummary\n"
      ]
    },
    {
      "cell_type": "code",
      "execution_count": 3,
      "metadata": {
        "id": "A6-KbILsy7cV"
      },
      "outputs": [],
      "source": [
        "# ---------------------------\n",
        "# 1. Import Libraries\n",
        "# ---------------------------\n",
        "import torch\n",
        "import torch.nn as nn\n",
        "import torch.optim as optim\n",
        "from torch.cuda.amp import autocast, GradScaler\n",
        "from torch.utils.data import DataLoader\n",
        "from torchvision import datasets, transforms, models\n",
        "from tqdm import tqdm\n",
        "import time\n",
        "import os\n",
        "\n",
        "\n",
        "\n",
        "\n",
        "\n"
      ]
    },
    {
      "cell_type": "code",
      "execution_count": 16,
      "metadata": {
        "colab": {
          "base_uri": "https://localhost:8080/"
        },
        "id": "a6qJjcZXzWdy",
        "outputId": "32e67909-172a-4715-f9db-e69ff918f821"
      },
      "outputs": [],
      "source": [
        "# ---------------------------\n",
        "# 2. Enable GPU and Mixed Precision\n",
        "# ---------------------------\n",
        "device = torch.device(\"cuda\" if torch.cuda.is_available() else \"cpu\")\n",
        "scaler = torch.amp.GradScaler(\"cuda\")  # Mixed precision scaler\n",
        "\n",
        "# ---------------------------\n",
        "# 3. Mount Google Drive (for model saving)\n",
        "# ---------------------------\n",
        "\n",
        "\n",
        "# Path to save models\n",
        "#model_dir = \"saved_model\"\n",
        "#os.makedirs(model_dir, exist_ok=True)\n",
        "#model_path = os.path.join(model_dir, \"efficientnetv2_s_disease.pth\")\n",
        "model_path=r\"C:\\Users\\kumar\\OneDrive\\Desktop\\SEM 6\\GenAI\\img\\saved_model\"\n"
      ]
    },
    {
      "cell_type": "code",
      "execution_count": 17,
      "metadata": {
        "colab": {
          "base_uri": "https://localhost:8080/"
        },
        "id": "DjFZgVCD3xxC",
        "outputId": "c188a9ea-eff9-4363-f355-2ec039362f69"
      },
      "outputs": [
        {
          "name": "stdout",
          "output_type": "stream",
          "text": [
            "\n",
            "✅ Classes: ['cotton_bacterial_blight', 'cotton_curl_virus', 'cotton_fussarium_wilt', 'cotton_healthy', 'maize_blight', 'maize_common_rust', 'maize_gray_leaf_spot', 'maize_healthy', 'rice_bacterial_leaf_blight', 'rice_blast', 'rice_brown_spot', 'rice_healthy', 'rice_tungro', 'wheat_brown_rust', 'wheat_fusarium_head_blight', 'wheat_healthy', 'wheat_mildew', 'wheat_septoria']\n"
          ]
        }
      ],
      "source": [
        "# ---------------------------\n",
        "# 4. Data Loading and Preprocessing\n",
        "# ---------------------------\n",
        "import os\n",
        "from torchvision import datasets, transforms\n",
        "from torch.utils.data import DataLoader\n",
        "\n",
        "# ✅ Correct Dataset Path\n",
        "data_dir = r\"C:\\Users\\kumar\\OneDrive\\Desktop\\SEM 6\\GenAI\\img\\disease_dataset\"\n",
        "batch_size = 32\n",
        "img_size = 224\n",
        "\n",
        "# ✅ Transforms with Data Augmentation\n",
        "train_transforms = transforms.Compose([\n",
        "    transforms.RandomResizedCrop(img_size),\n",
        "    transforms.RandomHorizontalFlip(),\n",
        "    transforms.RandomRotation(20),\n",
        "    transforms.ColorJitter(brightness=0.2, contrast=0.2, saturation=0.2),\n",
        "    transforms.RandomPerspective(distortion_scale=0.2, p=0.5),\n",
        "    transforms.ToTensor(),\n",
        "    transforms.Normalize([0.485, 0.456, 0.406], [0.229, 0.224, 0.225])\n",
        "])\n",
        "\n",
        "val_test_transforms = transforms.Compose([\n",
        "    transforms.Resize((img_size, img_size)),\n",
        "    transforms.ToTensor(),\n",
        "    transforms.Normalize([0.485, 0.456, 0.406], [0.229, 0.224, 0.225])\n",
        "])\n",
        "\n",
        "# ✅ Since all classes are in the same root folder, use a single ImageFolder\n",
        "# Split into train, val, and test sets\n",
        "full_dataset = datasets.ImageFolder(root=data_dir, transform=train_transforms)\n",
        "\n",
        "# Split into 80% train, 10% val, 10% test\n",
        "train_size = int(0.8 * len(full_dataset))\n",
        "val_size = int(0.1 * len(full_dataset))\n",
        "test_size = len(full_dataset) - train_size - val_size\n",
        "\n",
        "train_dataset, val_dataset, test_dataset = torch.utils.data.random_split(\n",
        "    full_dataset, [train_size, val_size, test_size]\n",
        ")\n",
        "\n",
        "# Apply the correct transforms\n",
        "train_dataset.dataset.transform = train_transforms\n",
        "val_dataset.dataset.transform = val_test_transforms\n",
        "test_dataset.dataset.transform = val_test_transforms\n",
        "\n",
        "# ✅ Dataloaders\n",
        "train_loader = DataLoader(train_dataset, batch_size=batch_size, shuffle=True, num_workers=4, pin_memory=True)\n",
        "val_loader = DataLoader(val_dataset, batch_size=batch_size, shuffle=False, num_workers=4, pin_memory=True)\n",
        "test_loader = DataLoader(test_dataset, batch_size=batch_size, shuffle=False, num_workers=4, pin_memory=True)\n",
        "\n",
        "# ✅ Get class names\n",
        "class_names = full_dataset.classes\n",
        "print(f\"\\n✅ Classes: {class_names}\")\n"
      ]
    },
    {
      "cell_type": "code",
      "execution_count": null,
      "metadata": {},
      "outputs": [],
      "source": []
    },
    {
      "cell_type": "code",
      "execution_count": 18,
      "metadata": {
        "id": "Aoh4pLNv0ST4"
      },
      "outputs": [],
      "source": [
        "\n",
        "# ---------------------------\n",
        "# 5. Model Definition (EfficientNetV2-S)\n",
        "# ---------------------------\n",
        "num_classes = len(class_names)\n",
        "\n",
        "# Load EfficientNetV2-S with pretrained weights\n",
        "model = models.efficientnet_v2_s(weights=\"IMAGENET1K_V1\")\n",
        "model.classifier[1] = nn.Linear(1280, num_classes)  # Adjust final layer for your classes\n",
        "model = model.to(device)\n",
        "\n",
        "# Loss, Optimizer, Scheduler\n",
        "criterion = nn.CrossEntropyLoss()\n",
        "optimizer = optim.AdamW(model.parameters(), lr=1e-3, weight_decay=1e-4)\n",
        "scheduler = optim.lr_scheduler.CosineAnnealingLR(optimizer, T_max=50)\n",
        "\n",
        "# ---------------------------\n",
        "# 6. Save Model Function\n",
        "# ---------------------------\n",
        "def save_model(model, model_path):\n",
        "    \"\"\"Save model to Google Drive\"\"\"\n",
        "    torch.save(model.state_dict(), model_path)\n",
        "    print(f\"\\n💾 Model saved at: {model_path}\")\n",
        "\n",
        "# ---------------------------\n",
        "# 7. Evaluation Function\n",
        "# ---------------------------\n",
        "def evaluate_model(model, loader):\n",
        "    \"\"\"Evaluate model accuracy\"\"\"\n",
        "    model.eval()\n",
        "    correct, total = 0, 0\n",
        "\n",
        "    with torch.no_grad():\n",
        "        for inputs, targets in loader:\n",
        "            inputs, targets = inputs.to(device), targets.to(device)\n",
        "\n",
        "            outputs = model(inputs)\n",
        "            _, predicted = torch.max(outputs, 1)\n",
        "\n",
        "            total += targets.size(0)\n",
        "            correct += (predicted == targets).sum().item()\n",
        "\n",
        "    acc = 100. * correct / total\n",
        "    return acc\n",
        "\n",
        "# ---------------------------\n",
        "# 8. Training Function (with Mixed Precision)\n",
        "# ---------------------------\n",
        "\n",
        "def train_model(model, train_loader, val_loader, test_loader, num_epochs, start_epoch, model_folder):\n",
        "    \"\"\"Train the model with mixed precision and save with a unique filename at the end of each block.\"\"\"\n",
        "\n",
        "    print(f\"\\n🚀 Starting Training for {num_epochs} epochs...\")\n",
        "\n",
        "    for epoch in range(start_epoch, start_epoch + num_epochs):\n",
        "        print(f\"\\n🔥 Epoch {epoch + 1}\")\n",
        "\n",
        "        model.train()\n",
        "        running_loss, correct, total = 0.0, 0, 0\n",
        "\n",
        "        start_time = time.time()\n",
        "\n",
        "        for inputs, targets in tqdm(train_loader):\n",
        "            inputs, targets = inputs.to(device), targets.to(device)\n",
        "\n",
        "            optimizer.zero_grad()\n",
        "\n",
        "            # Mixed precision training\n",
        "            with torch.amp.autocast(\"cuda\"):\n",
        "                outputs = model(inputs)\n",
        "                loss = criterion(outputs, targets)\n",
        "\n",
        "            scaler.scale(loss).backward()\n",
        "            scaler.step(optimizer)\n",
        "            scaler.update()\n",
        "\n",
        "            _, predicted = outputs.max(1)\n",
        "            total += targets.size(0)\n",
        "            correct += predicted.eq(targets).sum().item()\n",
        "\n",
        "            running_loss += loss.item()\n",
        "\n",
        "        end_time = time.time()\n",
        "        epoch_time = (end_time - start_time) / 60  # Time in minutes\n",
        "\n",
        "        # ✅ Calculate accuracies\n",
        "        train_acc = 100. * correct / total\n",
        "        val_acc = evaluate_model(model, val_loader)\n",
        "        test_acc = evaluate_model(model, test_loader)\n",
        "\n",
        "        print(f\"\\n✅ Train Accuracy: {train_acc:.2f}% | Val Accuracy: {val_acc:.2f}% | Test Accuracy: {test_acc:.2f}% | Time: {epoch_time:.2f} min\")\n",
        "\n",
        "        # ✅ Scheduler step\n",
        "        scheduler.step()\n",
        "\n",
        "    # ✅ Save model with a unique name after the training block\n",
        "    save_model(model, model_folder, start_epoch + num_epochs)\n"
      ]
    },
    {
      "cell_type": "code",
      "execution_count": null,
      "metadata": {},
      "outputs": [],
      "source": []
    },
    {
      "cell_type": "code",
      "execution_count": 19,
      "metadata": {
        "colab": {
          "base_uri": "https://localhost:8080/"
        },
        "id": "xP_dUXAa0YWa",
        "outputId": "bae1c58f-8a74-45c4-b4d0-bee769d5ec15"
      },
      "outputs": [
        {
          "name": "stdout",
          "output_type": "stream",
          "text": [
            "\n",
            "🚀 Starting Initial Training (12 epochs)...\n",
            "\n",
            "🚀 Starting Training for 6 epochs...\n",
            "\n",
            "🔥 Epoch 1\n"
          ]
        },
        {
          "name": "stderr",
          "output_type": "stream",
          "text": [
            "100%|██████████| 241/241 [00:52<00:00,  4.57it/s]\n"
          ]
        },
        {
          "name": "stdout",
          "output_type": "stream",
          "text": [
            "\n",
            "✅ Train Accuracy: 73.31% | Val Accuracy: 79.94% | Test Accuracy: 79.54% | Time: 0.88 min\n",
            "\n",
            "💾 Model saved at: C:\\Users\\kumar\\OneDrive\\Desktop\\SEM 6\\GenAI\\img\\saved_model\\best_model.pth\n",
            "\n",
            "💾 New Best Model Saved with Val Accuracy: 79.94%\n",
            "\n",
            "🔥 Epoch 2\n"
          ]
        },
        {
          "name": "stderr",
          "output_type": "stream",
          "text": [
            "100%|██████████| 241/241 [00:52<00:00,  4.62it/s]\n"
          ]
        },
        {
          "name": "stdout",
          "output_type": "stream",
          "text": [
            "\n",
            "✅ Train Accuracy: 87.18% | Val Accuracy: 86.38% | Test Accuracy: 86.71% | Time: 0.87 min\n",
            "\n",
            "💾 Model saved at: C:\\Users\\kumar\\OneDrive\\Desktop\\SEM 6\\GenAI\\img\\saved_model\\best_model.pth\n",
            "\n",
            "💾 New Best Model Saved with Val Accuracy: 86.38%\n",
            "\n",
            "🔥 Epoch 3\n"
          ]
        },
        {
          "name": "stderr",
          "output_type": "stream",
          "text": [
            "100%|██████████| 241/241 [00:48<00:00,  4.92it/s]\n"
          ]
        },
        {
          "name": "stdout",
          "output_type": "stream",
          "text": [
            "\n",
            "✅ Train Accuracy: 91.94% | Val Accuracy: 86.80% | Test Accuracy: 87.23% | Time: 0.82 min\n",
            "\n",
            "💾 Model saved at: C:\\Users\\kumar\\OneDrive\\Desktop\\SEM 6\\GenAI\\img\\saved_model\\best_model.pth\n",
            "\n",
            "💾 New Best Model Saved with Val Accuracy: 86.80%\n",
            "\n",
            "🔥 Epoch 4\n"
          ]
        },
        {
          "name": "stderr",
          "output_type": "stream",
          "text": [
            "100%|██████████| 241/241 [00:49<00:00,  4.82it/s]\n"
          ]
        },
        {
          "name": "stdout",
          "output_type": "stream",
          "text": [
            "\n",
            "✅ Train Accuracy: 94.07% | Val Accuracy: 88.57% | Test Accuracy: 86.29% | Time: 0.83 min\n",
            "\n",
            "💾 Model saved at: C:\\Users\\kumar\\OneDrive\\Desktop\\SEM 6\\GenAI\\img\\saved_model\\best_model.pth\n",
            "\n",
            "💾 New Best Model Saved with Val Accuracy: 88.57%\n",
            "\n",
            "🔥 Epoch 5\n"
          ]
        },
        {
          "name": "stderr",
          "output_type": "stream",
          "text": [
            "100%|██████████| 241/241 [00:49<00:00,  4.91it/s]\n"
          ]
        },
        {
          "name": "stdout",
          "output_type": "stream",
          "text": [
            "\n",
            "✅ Train Accuracy: 95.26% | Val Accuracy: 92.20% | Test Accuracy: 93.46% | Time: 0.82 min\n",
            "\n",
            "💾 Model saved at: C:\\Users\\kumar\\OneDrive\\Desktop\\SEM 6\\GenAI\\img\\saved_model\\best_model.pth\n",
            "\n",
            "💾 New Best Model Saved with Val Accuracy: 92.20%\n",
            "\n",
            "🔥 Epoch 6\n"
          ]
        },
        {
          "name": "stderr",
          "output_type": "stream",
          "text": [
            "100%|██████████| 241/241 [00:48<00:00,  4.93it/s]\n"
          ]
        },
        {
          "name": "stdout",
          "output_type": "stream",
          "text": [
            "\n",
            "✅ Train Accuracy: 96.36% | Val Accuracy: 93.24% | Test Accuracy: 94.50% | Time: 0.82 min\n",
            "\n",
            "💾 Model saved at: C:\\Users\\kumar\\OneDrive\\Desktop\\SEM 6\\GenAI\\img\\saved_model\\best_model.pth\n",
            "\n",
            "💾 New Best Model Saved with Val Accuracy: 93.24%\n",
            "\n",
            "🔥 Continuing Training for 3 More Epochs...\n",
            "\n",
            "🚀 Starting Training for 3 epochs...\n",
            "\n",
            "🔥 Epoch 13\n"
          ]
        },
        {
          "name": "stderr",
          "output_type": "stream",
          "text": [
            "100%|██████████| 241/241 [00:49<00:00,  4.89it/s]\n"
          ]
        },
        {
          "name": "stdout",
          "output_type": "stream",
          "text": [
            "\n",
            "✅ Train Accuracy: 97.22% | Val Accuracy: 94.91% | Test Accuracy: 94.18% | Time: 0.82 min\n",
            "\n",
            "💾 Model saved at: C:\\Users\\kumar\\OneDrive\\Desktop\\SEM 6\\GenAI\\img\\saved_model\\best_model.pth\n",
            "\n",
            "💾 New Best Model Saved with Val Accuracy: 94.91%\n",
            "\n",
            "🔥 Epoch 14\n"
          ]
        },
        {
          "name": "stderr",
          "output_type": "stream",
          "text": [
            "100%|██████████| 241/241 [00:48<00:00,  4.96it/s]\n"
          ]
        },
        {
          "name": "stdout",
          "output_type": "stream",
          "text": [
            "\n",
            "✅ Train Accuracy: 97.43% | Val Accuracy: 92.41% | Test Accuracy: 93.46% | Time: 0.81 min\n",
            "\n",
            "🔥 Epoch 15\n"
          ]
        },
        {
          "name": "stderr",
          "output_type": "stream",
          "text": [
            "100%|██████████| 241/241 [00:48<00:00,  4.92it/s]\n"
          ]
        },
        {
          "name": "stdout",
          "output_type": "stream",
          "text": [
            "\n",
            "✅ Train Accuracy: 97.38% | Val Accuracy: 87.94% | Test Accuracy: 88.58% | Time: 0.82 min\n",
            "\n",
            "🔥 Continuing Training for 3 More Epochs...\n",
            "\n",
            "🚀 Starting Training for 3 epochs...\n",
            "\n",
            "🔥 Epoch 16\n"
          ]
        },
        {
          "name": "stderr",
          "output_type": "stream",
          "text": [
            "100%|██████████| 241/241 [00:48<00:00,  4.94it/s]\n"
          ]
        },
        {
          "name": "stdout",
          "output_type": "stream",
          "text": [
            "\n",
            "✅ Train Accuracy: 97.45% | Val Accuracy: 94.91% | Test Accuracy: 93.46% | Time: 0.81 min\n",
            "\n",
            "🔥 Epoch 17\n"
          ]
        },
        {
          "name": "stderr",
          "output_type": "stream",
          "text": [
            "100%|██████████| 241/241 [00:48<00:00,  4.95it/s]\n"
          ]
        },
        {
          "name": "stdout",
          "output_type": "stream",
          "text": [
            "\n",
            "✅ Train Accuracy: 98.25% | Val Accuracy: 93.56% | Test Accuracy: 93.25% | Time: 0.81 min\n",
            "\n",
            "🔥 Epoch 18\n"
          ]
        },
        {
          "name": "stderr",
          "output_type": "stream",
          "text": [
            "100%|██████████| 241/241 [00:48<00:00,  4.93it/s]\n"
          ]
        },
        {
          "name": "stdout",
          "output_type": "stream",
          "text": [
            "\n",
            "✅ Train Accuracy: 98.35% | Val Accuracy: 95.11% | Test Accuracy: 95.64% | Time: 0.81 min\n",
            "\n",
            "💾 Model saved at: C:\\Users\\kumar\\OneDrive\\Desktop\\SEM 6\\GenAI\\img\\saved_model\\best_model.pth\n",
            "\n",
            "💾 New Best Model Saved with Val Accuracy: 95.11%\n",
            "\n",
            "🔥 Continuing Training for 5 More Epochs...\n",
            "\n",
            "🚀 Starting Training for 5 epochs...\n",
            "\n",
            "🔥 Epoch 19\n"
          ]
        },
        {
          "name": "stderr",
          "output_type": "stream",
          "text": [
            "100%|██████████| 241/241 [01:00<00:00,  3.96it/s]\n"
          ]
        },
        {
          "name": "stdout",
          "output_type": "stream",
          "text": [
            "\n",
            "✅ Train Accuracy: 98.06% | Val Accuracy: 94.70% | Test Accuracy: 94.81% | Time: 1.01 min\n",
            "\n",
            "🔥 Epoch 20\n"
          ]
        },
        {
          "name": "stderr",
          "output_type": "stream",
          "text": [
            "100%|██████████| 241/241 [00:56<00:00,  4.27it/s]\n"
          ]
        },
        {
          "name": "stdout",
          "output_type": "stream",
          "text": [
            "\n",
            "✅ Train Accuracy: 99.04% | Val Accuracy: 94.49% | Test Accuracy: 93.77% | Time: 0.94 min\n",
            "\n",
            "🔥 Epoch 21\n"
          ]
        },
        {
          "name": "stderr",
          "output_type": "stream",
          "text": [
            "100%|██████████| 241/241 [00:58<00:00,  4.12it/s]\n"
          ]
        },
        {
          "name": "stdout",
          "output_type": "stream",
          "text": [
            "\n",
            "✅ Train Accuracy: 98.70% | Val Accuracy: 95.43% | Test Accuracy: 93.77% | Time: 0.97 min\n",
            "\n",
            "💾 Model saved at: C:\\Users\\kumar\\OneDrive\\Desktop\\SEM 6\\GenAI\\img\\saved_model\\best_model.pth\n",
            "\n",
            "💾 New Best Model Saved with Val Accuracy: 95.43%\n",
            "\n",
            "🔥 Epoch 22\n"
          ]
        },
        {
          "name": "stderr",
          "output_type": "stream",
          "text": [
            "100%|██████████| 241/241 [00:55<00:00,  4.37it/s]\n"
          ]
        },
        {
          "name": "stdout",
          "output_type": "stream",
          "text": [
            "\n",
            "✅ Train Accuracy: 98.88% | Val Accuracy: 94.91% | Test Accuracy: 93.98% | Time: 0.92 min\n",
            "\n",
            "🔥 Epoch 23\n"
          ]
        },
        {
          "name": "stderr",
          "output_type": "stream",
          "text": [
            "100%|██████████| 241/241 [00:49<00:00,  4.91it/s]\n"
          ]
        },
        {
          "name": "stdout",
          "output_type": "stream",
          "text": [
            "\n",
            "✅ Train Accuracy: 98.74% | Val Accuracy: 94.49% | Test Accuracy: 93.98% | Time: 0.82 min\n",
            "\n",
            "🔥 Continuing Training for 3 More Epochs...\n",
            "\n",
            "🚀 Starting Training for 3 epochs...\n",
            "\n",
            "🔥 Epoch 24\n"
          ]
        },
        {
          "name": "stderr",
          "output_type": "stream",
          "text": [
            "100%|██████████| 241/241 [00:49<00:00,  4.88it/s]\n"
          ]
        },
        {
          "name": "stdout",
          "output_type": "stream",
          "text": [
            "\n",
            "✅ Train Accuracy: 99.05% | Val Accuracy: 96.05% | Test Accuracy: 96.47% | Time: 0.82 min\n",
            "\n",
            "💾 Model saved at: C:\\Users\\kumar\\OneDrive\\Desktop\\SEM 6\\GenAI\\img\\saved_model\\best_model.pth\n",
            "\n",
            "💾 New Best Model Saved with Val Accuracy: 96.05%\n",
            "\n",
            "🔥 Epoch 25\n"
          ]
        },
        {
          "name": "stderr",
          "output_type": "stream",
          "text": [
            "100%|██████████| 241/241 [00:48<00:00,  4.93it/s]\n"
          ]
        },
        {
          "name": "stdout",
          "output_type": "stream",
          "text": [
            "\n",
            "✅ Train Accuracy: 99.45% | Val Accuracy: 95.43% | Test Accuracy: 95.74% | Time: 0.81 min\n",
            "\n",
            "🔥 Epoch 26\n"
          ]
        },
        {
          "name": "stderr",
          "output_type": "stream",
          "text": [
            "100%|██████████| 241/241 [00:49<00:00,  4.87it/s]\n"
          ]
        },
        {
          "name": "stdout",
          "output_type": "stream",
          "text": [
            "\n",
            "✅ Train Accuracy: 99.68% | Val Accuracy: 96.15% | Test Accuracy: 96.47% | Time: 0.82 min\n",
            "\n",
            "💾 Model saved at: C:\\Users\\kumar\\OneDrive\\Desktop\\SEM 6\\GenAI\\img\\saved_model\\best_model.pth\n",
            "\n",
            "💾 New Best Model Saved with Val Accuracy: 96.15%\n",
            "\n",
            "🔥 Continuing Training for 5 More Epochs...\n",
            "\n",
            "🚀 Starting Training for 5 epochs...\n",
            "\n",
            "🔥 Epoch 27\n"
          ]
        },
        {
          "name": "stderr",
          "output_type": "stream",
          "text": [
            "100%|██████████| 241/241 [00:48<00:00,  4.98it/s]\n"
          ]
        },
        {
          "name": "stdout",
          "output_type": "stream",
          "text": [
            "\n",
            "✅ Train Accuracy: 99.42% | Val Accuracy: 93.45% | Test Accuracy: 94.60% | Time: 0.81 min\n",
            "\n",
            "🔥 Epoch 28\n"
          ]
        },
        {
          "name": "stderr",
          "output_type": "stream",
          "text": [
            "100%|██████████| 241/241 [00:47<00:00,  5.04it/s]\n"
          ]
        },
        {
          "name": "stdout",
          "output_type": "stream",
          "text": [
            "\n",
            "✅ Train Accuracy: 98.88% | Val Accuracy: 94.28% | Test Accuracy: 94.39% | Time: 0.80 min\n",
            "\n",
            "🔥 Epoch 29\n"
          ]
        },
        {
          "name": "stderr",
          "output_type": "stream",
          "text": [
            "100%|██████████| 241/241 [00:47<00:00,  5.06it/s]\n"
          ]
        },
        {
          "name": "stdout",
          "output_type": "stream",
          "text": [
            "\n",
            "✅ Train Accuracy: 99.09% | Val Accuracy: 95.32% | Test Accuracy: 95.02% | Time: 0.79 min\n",
            "\n",
            "🔥 Epoch 30\n"
          ]
        },
        {
          "name": "stderr",
          "output_type": "stream",
          "text": [
            "100%|██████████| 241/241 [00:47<00:00,  5.05it/s]\n"
          ]
        },
        {
          "name": "stdout",
          "output_type": "stream",
          "text": [
            "\n",
            "✅ Train Accuracy: 99.22% | Val Accuracy: 93.76% | Test Accuracy: 93.87% | Time: 0.79 min\n",
            "\n",
            "🔥 Epoch 31\n"
          ]
        },
        {
          "name": "stderr",
          "output_type": "stream",
          "text": [
            "100%|██████████| 241/241 [00:47<00:00,  5.10it/s]\n"
          ]
        },
        {
          "name": "stdout",
          "output_type": "stream",
          "text": [
            "\n",
            "✅ Train Accuracy: 99.69% | Val Accuracy: 95.63% | Test Accuracy: 96.57% | Time: 0.79 min\n",
            "\n",
            "⚠️ Invalid input. Please type 'yes' or 'no'.\n",
            "\n",
            "⚠️ Invalid input. Please type 'yes' or 'no'.\n",
            "\n",
            "🚫 Training stopped by user.\n"
          ]
        }
      ],
      "source": [
        "# ---------------------------\n",
        "# ✅ Define Model Folder for Saving\n",
        "model_folder = r\"C:\\Users\\kumar\\OneDrive\\Desktop\\SEM 6\\GenAI\\img\\saved_model\"\n",
        "\n",
        "# ✅ Initial 12 Epochs\n",
        "print(\"\\n🚀 Starting Initial Training (12 epochs)...\")\n",
        "\n",
        "# Track the best validation accuracy\n",
        "best_val_acc = 0.0\n",
        "\n",
        "def train_model_with_best_save(model, train_loader, val_loader, test_loader, num_epochs, start_epoch, model_folder):\n",
        "    \"\"\"Train the model and save only the best model based on validation accuracy.\"\"\"\n",
        "    global best_val_acc  # Use the global variable to track the best validation accuracy\n",
        "\n",
        "    print(f\"\\n🚀 Starting Training for {num_epochs} epochs...\")\n",
        "\n",
        "    for epoch in range(start_epoch, start_epoch + num_epochs):\n",
        "        print(f\"\\n🔥 Epoch {epoch + 1}\")\n",
        "\n",
        "        model.train()\n",
        "        running_loss, correct, total = 0.0, 0, 0\n",
        "\n",
        "        start_time = time.time()\n",
        "\n",
        "        for inputs, targets in tqdm(train_loader):\n",
        "            inputs, targets = inputs.to(device), targets.to(device)\n",
        "\n",
        "            optimizer.zero_grad()\n",
        "\n",
        "            # Mixed precision training\n",
        "            with torch.amp.autocast(\"cuda\"):\n",
        "                outputs = model(inputs)\n",
        "                loss = criterion(outputs, targets)\n",
        "\n",
        "            scaler.scale(loss).backward()\n",
        "            scaler.step(optimizer)\n",
        "            scaler.update()\n",
        "\n",
        "            _, predicted = outputs.max(1)\n",
        "            total += targets.size(0)\n",
        "            correct += predicted.eq(targets).sum().item()\n",
        "\n",
        "            running_loss += loss.item()\n",
        "\n",
        "        end_time = time.time()\n",
        "        epoch_time = (end_time - start_time) / 60  # Time in minutes\n",
        "\n",
        "        # ✅ Calculate accuracies\n",
        "        train_acc = 100. * correct / total\n",
        "        val_acc = evaluate_model(model, val_loader)\n",
        "        test_acc = evaluate_model(model, test_loader)\n",
        "\n",
        "        print(f\"\\n✅ Train Accuracy: {train_acc:.2f}% | Val Accuracy: {val_acc:.2f}% | Test Accuracy: {test_acc:.2f}% | Time: {epoch_time:.2f} min\")\n",
        "\n",
        "        # ✅ Save the model if validation accuracy improves\n",
        "        if val_acc > best_val_acc:\n",
        "            best_val_acc = val_acc\n",
        "            save_model(model, os.path.join(model_folder, \"best_model.pth\"))\n",
        "            print(f\"\\n💾 New Best Model Saved with Val Accuracy: {best_val_acc:.2f}%\")\n",
        "\n",
        "        # ✅ Scheduler step\n",
        "        scheduler.step()\n",
        "\n",
        "# Start training\n",
        "train_model_with_best_save(model, train_loader, val_loader, test_loader, num_epochs=6, start_epoch=0, model_folder=model_folder)\n",
        "\n",
        "# User-controlled loop for additional training blocks\n",
        "current_epoch = 12  # Keep track of the total epochs trained\n",
        "\n",
        "while True:\n",
        "    # Ask the user if they want to continue training\n",
        "    user_input = input(\"\\n❓ Do you want to continue training? (yes/no): \").strip().lower()\n",
        "\n",
        "    if user_input == 'yes':\n",
        "        try:\n",
        "            extra_epochs = int(input(\"\\n🔢 How many more epochs? (e.g., 3 or 5): \").strip())\n",
        "\n",
        "            if extra_epochs <= 0:\n",
        "                print(\"\\n⚠️ Invalid input. Epochs must be > 0.\")\n",
        "                continue\n",
        "\n",
        "            print(f\"\\n🔥 Continuing Training for {extra_epochs} More Epochs...\")\n",
        "\n",
        "            # Train for the additional epochs\n",
        "            train_model_with_best_save(model, train_loader, val_loader, test_loader, num_epochs=extra_epochs,\n",
        "                                       start_epoch=current_epoch, model_folder=model_folder)\n",
        "\n",
        "            # Update the current epoch count\n",
        "            current_epoch += extra_epochs\n",
        "\n",
        "        except ValueError:\n",
        "            print(\"\\n⚠️ Invalid input. Please enter a valid number of epochs.\")\n",
        "\n",
        "    elif user_input == 'no':\n",
        "        print(\"\\n🚫 Training stopped by user.\")\n",
        "        break\n",
        "    else:\n",
        "        print(\"\\n⚠️ Invalid input. Please type 'yes' or 'no'.\")\n"
      ]
    },
    {
      "cell_type": "code",
      "execution_count": null,
      "metadata": {
        "id": "7bUmRPWI07xl"
      },
      "outputs": [],
      "source": [
        "import random\n",
        "import matplotlib.pyplot as plt\n",
        "import numpy as np\n",
        "\n",
        "# ---------------------------\n",
        "# 🔥 11. Visualization Function\n",
        "# ---------------------------\n",
        "def visualize_predictions(model, loader, num_images=5):\n",
        "    \"\"\"Displays random images with true and predicted labels.\"\"\"\n",
        "    model.eval()\n",
        "\n",
        "    # Collect a batch of test images\n",
        "    images, labels = next(iter(loader))\n",
        "    images, labels = images.to(device), labels.to(device)\n",
        "\n",
        "    # Randomly select images\n",
        "    idx = random.sample(range(len(images)), num_images)\n",
        "\n",
        "    fig, axes = plt.subplots(1, num_images, figsize=(15, 5))\n",
        "\n",
        "    with torch.no_grad():\n",
        "        outputs = model(images)\n",
        "        _, preds = torch.max(outputs, 1)\n",
        "\n",
        "    # Display images with true and predicted labels\n",
        "    for i, ax in enumerate(axes):\n",
        "        img = images[idx[i]].cpu().permute(1, 2, 0).numpy()  # Convert to (H, W, C) for display\n",
        "        img = np.clip(img * 0.225 + 0.45, 0, 1)  # De-normalize for visualization\n",
        "\n",
        "        ax.imshow(img)\n",
        "        true_label = class_names[labels[idx[i]].item()]\n",
        "        pred_label = class_names[preds[idx[i]].item()]\n",
        "\n",
        "        color = \"green\" if true_label == pred_label else \"red\"\n",
        "        ax.set_title(f\"True: {true_label}\\nPred: {pred_label}\", color=color)\n",
        "        ax.axis(\"off\")\n",
        "\n",
        "    plt.tight_layout()\n",
        "    plt.show()\n",
        "\n",
        "# ---------------------------\n",
        "# 🔥 12. Call the Visualization Function\n",
        "# ---------------------------\n",
        "print(\"\\n📊 Displaying 5 Random Test Images with Predictions...\")\n",
        "visualize_predictions(model, test_loader)\n"
      ]
    }
  ],
  "metadata": {
    "accelerator": "GPU",
    "colab": {
      "gpuType": "T4",
      "provenance": []
    },
    "kernelspec": {
      "display_name": "Python 3",
      "name": "python3"
    },
    "language_info": {
      "codemirror_mode": {
        "name": "ipython",
        "version": 3
      },
      "file_extension": ".py",
      "mimetype": "text/x-python",
      "name": "python",
      "nbconvert_exporter": "python",
      "pygments_lexer": "ipython3",
      "version": "3.10.9"
    }
  },
  "nbformat": 4,
  "nbformat_minor": 0
}
